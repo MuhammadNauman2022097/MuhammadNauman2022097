{
 "cells": [
  {
   "cell_type": "markdown",
   "id": "51b4660d",
   "metadata": {},
   "source": [
    " ## <center> CCT College Dublin <center>\n",
    "\n",
    " ## <center> Continuous Assessment 2 - Strategic Thinking <center>\n",
    "\n",
    " ## <center> Cryptocurrence Historical Prices<center>\n",
    "    \n",
    "### <center>TEAM 3: Eduarda Schein, Marilia Silva, Gustavo Martinele, Erica Lima, Lucas Pontes, Muhammad Nauman"
   ]
  },
  {
   "cell_type": "markdown",
   "id": "a3fb10a0",
   "metadata": {},
   "source": [
    "## Data Understanding"
   ]
  },
  {
   "cell_type": "code",
   "execution_count": 2,
   "id": "e71587f9",
   "metadata": {},
   "outputs": [],
   "source": [
    "#Data Dictionary:"
   ]
  },
  {
   "attachments": {
    "image-2.png": {
     "image/png": "[encoded data removed]"
    }
   },
   "cell_type": "markdown",
   "id": "ef201c6e",
   "metadata": {},
   "source": [
    "\n",
    "\n",
    "![image-2.png](attachment:image-2.png)"
   ]
  },
  {
   "cell_type": "code",
   "execution_count": 3,
   "id": "57caaa2d",
   "metadata": {},
   "outputs": [
    {
     "data": {
      "text/html": [
       "        <script type=\"text/javascript\">\n",
       "        window.PlotlyConfig = {MathJaxConfig: 'local'};\n",
       "        if (window.MathJax && window.MathJax.Hub && window.MathJax.Hub.Config) {window.MathJax.Hub.Config({SVG: {font: \"STIX-Web\"}});}\n",
       "        if (typeof require !== 'undefined') {\n",
       "        require.undef(\"plotly\");\n",
       "        requirejs.config({\n",
       "            paths: {\n",
       "                'plotly': ['https://cdn.plot.ly/plotly-2.16.1.min']\n",
       "            }\n",
       "        });\n",
       "        require(['plotly'], function(Plotly) {\n",
       "            window._Plotly = Plotly;\n",
       "        });\n",
       "        }\n",
       "        </script>\n",
       "        "
      ]
     },
     "metadata": {},
     "output_type": "display_data"
    }
   ],
   "source": [
    "#Importing libraries \n",
    "import pandas as pd\n",
    "import numpy as np\n",
    "import matplotlib.dates as mdates\n",
    "import matplotlib.pyplot as plt\n",
    "import pandas_datareader.data as web\n",
    "import seaborn as sns\n",
    "import datetime\n",
    "import seaborn as sns\n",
    "from plotly.offline import init_notebook_mode, iplot\n",
    "import plotly.figure_factory as ff\n",
    "#Preprocessing\n",
    "from sklearn.model_selection import train_test_split\n",
    "#Scaling\n",
    "from sklearn.preprocessing import MinMaxScaler\n",
    "from matplotlib import scale\n",
    "# modelling:\n",
    "from sklearn.neighbors import KNeighborsRegressor\n",
    "from sklearn.metrics import accuracy_score\n",
    "import sklearn.metrics as sm\n",
    "from sklearn.linear_model import LinearRegression\n",
    "# Handling warnings\n",
    "import warnings\n",
    "warnings.filterwarnings('ignore')\n",
    "#Table of contents:\n",
    "from tabulate import tabulate\n",
    "tabulate.WIDE_CHARS_MODE = False\n",
    "#T-Test:\n",
    "from scipy.stats import ttest_rel\n",
    "\n",
    "# Import statements (standard)\n",
    "import math\n",
    "import time\n",
    "import datetime as dt\n",
    "import plotly.graph_objs as go\n",
    "from plotly.offline import download_plotlyjs, init_notebook_mode, plot, iplot\n",
    "\n",
    "init_notebook_mode(connected=True)\n",
    "\n",
    "# Import statements (RF)\n",
    "from sklearn.model_selection import TimeSeriesSplit\n",
    "from sklearn.model_selection import GridSearchCV\n",
    "from sklearn.ensemble import RandomForestRegressor\n"
   ]
  },
  {
   "cell_type": "code",
   "execution_count": 4,
   "id": "e9628e26",
   "metadata": {},
   "outputs": [],
   "source": [
    "df_btc = pd.read_csv(\"coin_Bitcoin.csv\")\n",
    "df_eth = pd.read_csv(\"coin_Ethereum.csv\")\n",
    "df_usdt = pd.read_csv(\"coin_Tether.csv\")\n",
    "df_bnb = pd.read_csv(\"coin_BinanceCoin.csv\")\n",
    "df_usdc = pd.read_csv(\"coin_USDCoin.csv\")\n",
    "df_sol = pd.read_csv(\"coin_Solana.csv\")\n",
    "df_xrp = pd.read_csv(\"coin_XRP.csv\")\n",
    "df_ada = pd.read_csv(\"coin_Cardano.csv\")"
   ]
  },
  {
   "cell_type": "code",
   "execution_count": 5,
   "id": "54d6c8ab",
   "metadata": {},
   "outputs": [],
   "source": [
    "df_crypto= pd.concat([df_btc, df_eth,df_usdt, df_bnb, df_usdc, df_sol,df_xrp, df_ada])"
   ]
  },
  {
   "cell_type": "code",
   "execution_count": 6,
   "id": "efca6a3e",
   "metadata": {},
   "outputs": [
    {
     "data": {
      "text/html": [
       "<div>\n",
       "<style scoped>\n",
       "    .dataframe tbody tr th:only-of-type {\n",
       "        vertical-align: middle;\n",
       "    }\n",
       "\n",
       "    .dataframe tbody tr th {\n",
       "        vertical-align: top;\n",
       "    }\n",
       "\n",
       "    .dataframe thead th {\n",
       "        text-align: right;\n",
       "    }\n",
       "</style>\n",
       "<table border=\"1\" class=\"dataframe\">\n",
       "  <thead>\n",
       "    <tr style=\"text-align: right;\">\n",
       "      <th></th>\n",
       "      <th>SNo</th>\n",
       "      <th>Name</th>\n",
       "      <th>Symbol</th>\n",
       "      <th>Date</th>\n",
       "      <th>High</th>\n",
       "      <th>Low</th>\n",
       "      <th>Open</th>\n",
       "      <th>Close</th>\n",
       "      <th>Volume</th>\n",
       "      <th>Marketcap</th>\n",
       "    </tr>\n",
       "  </thead>\n",
       "  <tbody>\n",
       "    <tr>\n",
       "      <th>0</th>\n",
       "      <td>1</td>\n",
       "      <td>Bitcoin</td>\n",
       "      <td>BTC</td>\n",
       "      <td>2013-04-29 23:59:59</td>\n",
       "      <td>147.488007</td>\n",
       "      <td>134.000000</td>\n",
       "      <td>134.444000</td>\n",
       "      <td>144.539993</td>\n",
       "      <td>0.0</td>\n",
       "      <td>1.603769e+09</td>\n",
       "    </tr>\n",
       "    <tr>\n",
       "      <th>1</th>\n",
       "      <td>2</td>\n",
       "      <td>Bitcoin</td>\n",
       "      <td>BTC</td>\n",
       "      <td>2013-04-30 23:59:59</td>\n",
       "      <td>146.929993</td>\n",
       "      <td>134.050003</td>\n",
       "      <td>144.000000</td>\n",
       "      <td>139.000000</td>\n",
       "      <td>0.0</td>\n",
       "      <td>1.542813e+09</td>\n",
       "    </tr>\n",
       "    <tr>\n",
       "      <th>2</th>\n",
       "      <td>3</td>\n",
       "      <td>Bitcoin</td>\n",
       "      <td>BTC</td>\n",
       "      <td>2013-05-01 23:59:59</td>\n",
       "      <td>139.889999</td>\n",
       "      <td>107.720001</td>\n",
       "      <td>139.000000</td>\n",
       "      <td>116.989998</td>\n",
       "      <td>0.0</td>\n",
       "      <td>1.298955e+09</td>\n",
       "    </tr>\n",
       "    <tr>\n",
       "      <th>3</th>\n",
       "      <td>4</td>\n",
       "      <td>Bitcoin</td>\n",
       "      <td>BTC</td>\n",
       "      <td>2013-05-02 23:59:59</td>\n",
       "      <td>125.599998</td>\n",
       "      <td>92.281898</td>\n",
       "      <td>116.379997</td>\n",
       "      <td>105.209999</td>\n",
       "      <td>0.0</td>\n",
       "      <td>1.168517e+09</td>\n",
       "    </tr>\n",
       "    <tr>\n",
       "      <th>4</th>\n",
       "      <td>5</td>\n",
       "      <td>Bitcoin</td>\n",
       "      <td>BTC</td>\n",
       "      <td>2013-05-03 23:59:59</td>\n",
       "      <td>108.127998</td>\n",
       "      <td>79.099998</td>\n",
       "      <td>106.250000</td>\n",
       "      <td>97.750000</td>\n",
       "      <td>0.0</td>\n",
       "      <td>1.085995e+09</td>\n",
       "    </tr>\n",
       "  </tbody>\n",
       "</table>\n",
       "</div>"
      ],
      "text/plain": [
       "   SNo     Name Symbol                 Date        High         Low  \\\n",
       "0    1  Bitcoin    BTC  2013-04-29 23:59:59  147.488007  134.000000   \n",
       "1    2  Bitcoin    BTC  2013-04-30 23:59:59  146.929993  134.050003   \n",
       "2    3  Bitcoin    BTC  2013-05-01 23:59:59  139.889999  107.720001   \n",
       "3    4  Bitcoin    BTC  2013-05-02 23:59:59  125.599998   92.281898   \n",
       "4    5  Bitcoin    BTC  2013-05-03 23:59:59  108.127998   79.099998   \n",
       "\n",
       "         Open       Close  Volume     Marketcap  \n",
       "0  134.444000  144.539993     0.0  1.603769e+09  \n",
       "1  144.000000  139.000000     0.0  1.542813e+09  \n",
       "2  139.000000  116.989998     0.0  1.298955e+09  \n",
       "3  116.379997  105.209999     0.0  1.168517e+09  \n",
       "4  106.250000   97.750000     0.0  1.085995e+09  "
      ]
     },
     "execution_count": 6,
     "metadata": {},
     "output_type": "execute_result"
    }
   ],
   "source": [
    "df_crypto.head()"
   ]
  },
  {
   "cell_type": "code",
   "execution_count": 7,
   "id": "f1438d9f",
   "metadata": {},
   "outputs": [
    {
     "data": {
      "text/html": [
       "<div>\n",
       "<style scoped>\n",
       "    .dataframe tbody tr th:only-of-type {\n",
       "        vertical-align: middle;\n",
       "    }\n",
       "\n",
       "    .dataframe tbody tr th {\n",
       "        vertical-align: top;\n",
       "    }\n",
       "\n",
       "    .dataframe thead th {\n",
       "        text-align: right;\n",
       "    }\n",
       "</style>\n",
       "<table border=\"1\" class=\"dataframe\">\n",
       "  <thead>\n",
       "    <tr style=\"text-align: right;\">\n",
       "      <th></th>\n",
       "      <th>SNo</th>\n",
       "      <th>Name</th>\n",
       "      <th>Symbol</th>\n",
       "      <th>Date</th>\n",
       "      <th>High</th>\n",
       "      <th>Low</th>\n",
       "      <th>Open</th>\n",
       "      <th>Close</th>\n",
       "      <th>Volume</th>\n",
       "      <th>Marketcap</th>\n",
       "    </tr>\n",
       "  </thead>\n",
       "  <tbody>\n",
       "    <tr>\n",
       "      <th>1369</th>\n",
       "      <td>1370</td>\n",
       "      <td>Cardano</td>\n",
       "      <td>ADA</td>\n",
       "      <td>2021-07-02 23:59:59</td>\n",
       "      <td>1.394397</td>\n",
       "      <td>1.286607</td>\n",
       "      <td>1.332942</td>\n",
       "      <td>1.394397</td>\n",
       "      <td>2.159410e+09</td>\n",
       "      <td>4.454587e+10</td>\n",
       "    </tr>\n",
       "    <tr>\n",
       "      <th>1370</th>\n",
       "      <td>1371</td>\n",
       "      <td>Cardano</td>\n",
       "      <td>ADA</td>\n",
       "      <td>2021-07-03 23:59:59</td>\n",
       "      <td>1.441714</td>\n",
       "      <td>1.359664</td>\n",
       "      <td>1.394152</td>\n",
       "      <td>1.406836</td>\n",
       "      <td>2.028094e+09</td>\n",
       "      <td>4.494324e+10</td>\n",
       "    </tr>\n",
       "    <tr>\n",
       "      <th>1371</th>\n",
       "      <td>1372</td>\n",
       "      <td>Cardano</td>\n",
       "      <td>ADA</td>\n",
       "      <td>2021-07-04 23:59:59</td>\n",
       "      <td>1.493717</td>\n",
       "      <td>1.382153</td>\n",
       "      <td>1.404008</td>\n",
       "      <td>1.458184</td>\n",
       "      <td>1.806362e+09</td>\n",
       "      <td>4.658364e+10</td>\n",
       "    </tr>\n",
       "    <tr>\n",
       "      <th>1372</th>\n",
       "      <td>1373</td>\n",
       "      <td>Cardano</td>\n",
       "      <td>ADA</td>\n",
       "      <td>2021-07-05 23:59:59</td>\n",
       "      <td>1.461221</td>\n",
       "      <td>1.379284</td>\n",
       "      <td>1.461221</td>\n",
       "      <td>1.404898</td>\n",
       "      <td>1.759461e+09</td>\n",
       "      <td>4.488134e+10</td>\n",
       "    </tr>\n",
       "    <tr>\n",
       "      <th>1373</th>\n",
       "      <td>1374</td>\n",
       "      <td>Cardano</td>\n",
       "      <td>ADA</td>\n",
       "      <td>2021-07-06 23:59:59</td>\n",
       "      <td>1.456887</td>\n",
       "      <td>1.393282</td>\n",
       "      <td>1.404712</td>\n",
       "      <td>1.418053</td>\n",
       "      <td>1.477700e+09</td>\n",
       "      <td>4.530158e+10</td>\n",
       "    </tr>\n",
       "  </tbody>\n",
       "</table>\n",
       "</div>"
      ],
      "text/plain": [
       "       SNo     Name Symbol                 Date      High       Low      Open  \\\n",
       "1369  1370  Cardano    ADA  2021-07-02 23:59:59  1.394397  1.286607  1.332942   \n",
       "1370  1371  Cardano    ADA  2021-07-03 23:59:59  1.441714  1.359664  1.394152   \n",
       "1371  1372  Cardano    ADA  2021-07-04 23:59:59  1.493717  1.382153  1.404008   \n",
       "1372  1373  Cardano    ADA  2021-07-05 23:59:59  1.461221  1.379284  1.461221   \n",
       "1373  1374  Cardano    ADA  2021-07-06 23:59:59  1.456887  1.393282  1.404712   \n",
       "\n",
       "         Close        Volume     Marketcap  \n",
       "1369  1.394397  2.159410e+09  4.454587e+10  \n",
       "1370  1.406836  2.028094e+09  4.494324e+10  \n",
       "1371  1.458184  1.806362e+09  4.658364e+10  \n",
       "1372  1.404898  1.759461e+09  4.488134e+10  \n",
       "1373  1.418053  1.477700e+09  4.530158e+10  "
      ]
     },
     "execution_count": 7,
     "metadata": {},
     "output_type": "execute_result"
    }
   ],
   "source": [
    "df_crypto.tail()"
   ]
  },
  {
   "cell_type": "code",
   "execution_count": 8,
   "id": "aa9b7e0e",
   "metadata": {},
   "outputs": [
    {
     "data": {
      "text/plain": [
       "(14632, 10)"
      ]
     },
     "execution_count": 8,
     "metadata": {},
     "output_type": "execute_result"
    }
   ],
   "source": [
    "df_crypto.shape"
   ]
  },
  {
   "cell_type": "code",
   "execution_count": 9,
   "id": "2eceb365",
   "metadata": {},
   "outputs": [
    {
     "name": "stdout",
     "output_type": "stream",
     "text": [
      "<class 'pandas.core.frame.DataFrame'>\n",
      "Int64Index: 14632 entries, 0 to 1373\n",
      "Data columns (total 10 columns):\n",
      " #   Column     Non-Null Count  Dtype  \n",
      "---  ------     --------------  -----  \n",
      " 0   SNo        14632 non-null  int64  \n",
      " 1   Name       14632 non-null  object \n",
      " 2   Symbol     14632 non-null  object \n",
      " 3   Date       14632 non-null  object \n",
      " 4   High       14632 non-null  float64\n",
      " 5   Low        14632 non-null  float64\n",
      " 6   Open       14632 non-null  float64\n",
      " 7   Close      14632 non-null  float64\n",
      " 8   Volume     14632 non-null  float64\n",
      " 9   Marketcap  14632 non-null  float64\n",
      "dtypes: float64(6), int64(1), object(3)\n",
      "memory usage: 1.2+ MB\n"
     ]
    }
   ],
   "source": [
    "df_crypto.info()"
   ]
  },
  {
   "cell_type": "code",
   "execution_count": 10,
   "id": "8c8be755",
   "metadata": {},
   "outputs": [
    {
     "data": {
      "text/html": [
       "<div>\n",
       "<style scoped>\n",
       "    .dataframe tbody tr th:only-of-type {\n",
       "        vertical-align: middle;\n",
       "    }\n",
       "\n",
       "    .dataframe tbody tr th {\n",
       "        vertical-align: top;\n",
       "    }\n",
       "\n",
       "    .dataframe thead th {\n",
       "        text-align: right;\n",
       "    }\n",
       "</style>\n",
       "<table border=\"1\" class=\"dataframe\">\n",
       "  <thead>\n",
       "    <tr style=\"text-align: right;\">\n",
       "      <th></th>\n",
       "      <th>SNo</th>\n",
       "      <th>High</th>\n",
       "      <th>Low</th>\n",
       "      <th>Open</th>\n",
       "      <th>Close</th>\n",
       "      <th>Volume</th>\n",
       "      <th>Marketcap</th>\n",
       "    </tr>\n",
       "  </thead>\n",
       "  <tbody>\n",
       "    <tr>\n",
       "      <th>count</th>\n",
       "      <td>14632.000000</td>\n",
       "      <td>14632.000000</td>\n",
       "      <td>14632.000000</td>\n",
       "      <td>14632.000000</td>\n",
       "      <td>14632.000000</td>\n",
       "      <td>1.463200e+04</td>\n",
       "      <td>1.463200e+04</td>\n",
       "    </tr>\n",
       "    <tr>\n",
       "      <th>mean</th>\n",
       "      <td>1112.097936</td>\n",
       "      <td>1473.936220</td>\n",
       "      <td>1385.242782</td>\n",
       "      <td>1431.877953</td>\n",
       "      <td>1434.332398</td>\n",
       "      <td>6.787654e+09</td>\n",
       "      <td>3.552592e+10</td>\n",
       "    </tr>\n",
       "    <tr>\n",
       "      <th>std</th>\n",
       "      <td>768.958232</td>\n",
       "      <td>5943.653197</td>\n",
       "      <td>5558.036929</td>\n",
       "      <td>5765.649516</td>\n",
       "      <td>5771.759534</td>\n",
       "      <td>1.817132e+10</td>\n",
       "      <td>1.092216e+11</td>\n",
       "    </tr>\n",
       "    <tr>\n",
       "      <th>min</th>\n",
       "      <td>1.000000</td>\n",
       "      <td>0.003082</td>\n",
       "      <td>0.002802</td>\n",
       "      <td>0.002809</td>\n",
       "      <td>0.002810</td>\n",
       "      <td>0.000000e+00</td>\n",
       "      <td>0.000000e+00</td>\n",
       "    </tr>\n",
       "    <tr>\n",
       "      <th>25%</th>\n",
       "      <td>458.750000</td>\n",
       "      <td>0.470923</td>\n",
       "      <td>0.438239</td>\n",
       "      <td>0.454068</td>\n",
       "      <td>0.455102</td>\n",
       "      <td>1.911512e+07</td>\n",
       "      <td>7.254668e+08</td>\n",
       "    </tr>\n",
       "    <tr>\n",
       "      <th>50%</th>\n",
       "      <td>981.000000</td>\n",
       "      <td>1.024013</td>\n",
       "      <td>1.001554</td>\n",
       "      <td>1.010482</td>\n",
       "      <td>1.010586</td>\n",
       "      <td>2.717045e+08</td>\n",
       "      <td>4.101430e+09</td>\n",
       "    </tr>\n",
       "    <tr>\n",
       "      <th>75%</th>\n",
       "      <td>1676.250000</td>\n",
       "      <td>245.776497</td>\n",
       "      <td>235.253754</td>\n",
       "      <td>240.197436</td>\n",
       "      <td>240.326001</td>\n",
       "      <td>3.548535e+09</td>\n",
       "      <td>1.968992e+10</td>\n",
       "    </tr>\n",
       "    <tr>\n",
       "      <th>max</th>\n",
       "      <td>2991.000000</td>\n",
       "      <td>64863.098908</td>\n",
       "      <td>62208.964366</td>\n",
       "      <td>63523.754869</td>\n",
       "      <td>63503.457930</td>\n",
       "      <td>3.509679e+11</td>\n",
       "      <td>1.186364e+12</td>\n",
       "    </tr>\n",
       "  </tbody>\n",
       "</table>\n",
       "</div>"
      ],
      "text/plain": [
       "                SNo          High           Low          Open         Close  \\\n",
       "count  14632.000000  14632.000000  14632.000000  14632.000000  14632.000000   \n",
       "mean    1112.097936   1473.936220   1385.242782   1431.877953   1434.332398   \n",
       "std      768.958232   5943.653197   5558.036929   5765.649516   5771.759534   \n",
       "min        1.000000      0.003082      0.002802      0.002809      0.002810   \n",
       "25%      458.750000      0.470923      0.438239      0.454068      0.455102   \n",
       "50%      981.000000      1.024013      1.001554      1.010482      1.010586   \n",
       "75%     1676.250000    245.776497    235.253754    240.197436    240.326001   \n",
       "max     2991.000000  64863.098908  62208.964366  63523.754869  63503.457930   \n",
       "\n",
       "             Volume     Marketcap  \n",
       "count  1.463200e+04  1.463200e+04  \n",
       "mean   6.787654e+09  3.552592e+10  \n",
       "std    1.817132e+10  1.092216e+11  \n",
       "min    0.000000e+00  0.000000e+00  \n",
       "25%    1.911512e+07  7.254668e+08  \n",
       "50%    2.717045e+08  4.101430e+09  \n",
       "75%    3.548535e+09  1.968992e+10  \n",
       "max    3.509679e+11  1.186364e+12  "
      ]
     },
     "execution_count": 10,
     "metadata": {},
     "output_type": "execute_result"
    }
   ],
   "source": [
    "df_crypto.describe()"
   ]
  },
  {
   "cell_type": "code",
   "execution_count": 11,
   "id": "908f0793",
   "metadata": {},
   "outputs": [
    {
     "data": {
      "text/html": [
       "<div>\n",
       "<style scoped>\n",
       "    .dataframe tbody tr th:only-of-type {\n",
       "        vertical-align: middle;\n",
       "    }\n",
       "\n",
       "    .dataframe tbody tr th {\n",
       "        vertical-align: top;\n",
       "    }\n",
       "\n",
       "    .dataframe thead th {\n",
       "        text-align: right;\n",
       "    }\n",
       "</style>\n",
       "<table border=\"1\" class=\"dataframe\">\n",
       "  <thead>\n",
       "    <tr style=\"text-align: right;\">\n",
       "      <th></th>\n",
       "      <th>Name</th>\n",
       "      <th>Symbol</th>\n",
       "      <th>Date</th>\n",
       "    </tr>\n",
       "  </thead>\n",
       "  <tbody>\n",
       "    <tr>\n",
       "      <th>count</th>\n",
       "      <td>14632</td>\n",
       "      <td>14632</td>\n",
       "      <td>14632</td>\n",
       "    </tr>\n",
       "    <tr>\n",
       "      <th>unique</th>\n",
       "      <td>8</td>\n",
       "      <td>8</td>\n",
       "      <td>2991</td>\n",
       "    </tr>\n",
       "    <tr>\n",
       "      <th>top</th>\n",
       "      <td>Bitcoin</td>\n",
       "      <td>BTC</td>\n",
       "      <td>2021-07-06 23:59:59</td>\n",
       "    </tr>\n",
       "    <tr>\n",
       "      <th>freq</th>\n",
       "      <td>2991</td>\n",
       "      <td>2991</td>\n",
       "      <td>8</td>\n",
       "    </tr>\n",
       "  </tbody>\n",
       "</table>\n",
       "</div>"
      ],
      "text/plain": [
       "           Name Symbol                 Date\n",
       "count     14632  14632                14632\n",
       "unique        8      8                 2991\n",
       "top     Bitcoin    BTC  2021-07-06 23:59:59\n",
       "freq       2991   2991                    8"
      ]
     },
     "execution_count": 11,
     "metadata": {},
     "output_type": "execute_result"
    }
   ],
   "source": [
    "df_crypto.describe(include=object)"
   ]
  },
  {
   "cell_type": "code",
   "execution_count": 12,
   "id": "f254d894",
   "metadata": {},
   "outputs": [],
   "source": [
    "#Creating columns for Month and Year\n",
    "df_crypto['Month'] = pd.DatetimeIndex(pd.to_datetime(df_crypto['Date'], dayfirst=True)).month\n",
    "df_crypto['Year'] = pd.DatetimeIndex(pd.to_datetime(df_crypto['Date'], dayfirst=True)).year\n",
    "df_crypto['Day'] = pd.DatetimeIndex(pd.to_datetime(df_crypto['Date'], dayfirst= True)).day"
   ]
  },
  {
   "cell_type": "code",
   "execution_count": 13,
   "id": "c20db3ff",
   "metadata": {},
   "outputs": [
    {
     "data": {
      "image/png": "[encoded data removed]",
      "text/plain": [
       "<Figure size 1500x500 with 3 Axes>"
      ]
     },
     "metadata": {},
     "output_type": "display_data"
    }
   ],
   "source": [
    "sns.pairplot(df_crypto.dropna(),x_vars=['Day','Month','Year'],y_vars='Close',height=5,plot_kws={'alpha':0.15, 'linewidth':0}\n",
    "            )\n",
    "plt.suptitle('Close value by Day of Week, Month and Year',fontsize=20)\n",
    "plt.show()"
   ]
  },
  {
   "cell_type": "code",
   "execution_count": 14,
   "id": "97acb29d",
   "metadata": {},
   "outputs": [
    {
     "data": {
      "text/plain": [
       "Text(0.5, 1.0, 'Strength of High and Low')"
      ]
     },
     "execution_count": 14,
     "metadata": {},
     "output_type": "execute_result"
    },
    {
     "data": {
      "image/png": "[encoded data removed]",
      "text/plain": [
       "<Figure size 1000x600 with 1 Axes>"
      ]
     },
     "metadata": {},
     "output_type": "display_data"
    }
   ],
   "source": [
    "plt.figure(figsize=(10,6))\n",
    "plt.hist2d(data = df_crypto, x = 'High', y = 'Low')\n",
    "plt.xlabel('High') \n",
    "plt.ylabel('Low') \n",
    "plt.title(\"Strength of High and Low\",fontsize = 15)"
   ]
  },
  {
   "cell_type": "markdown",
   "id": "31805b1a",
   "metadata": {},
   "source": [
    "### ScatterPlots"
   ]
  },
  {
   "cell_type": "markdown",
   "id": "f61d70ee",
   "metadata": {},
   "source": [
    "We plot ScatterPlots to show some linear correlation among variables."
   ]
  },
  {
   "cell_type": "code",
   "execution_count": 15,
   "id": "e36bb732",
   "metadata": {},
   "outputs": [
    {
     "data": {
      "text/plain": [
       "Text(0.5, 1.0, 'Corr between High and Marketcap')"
      ]
     },
     "execution_count": 15,
     "metadata": {},
     "output_type": "execute_result"
    },
    {
     "data": {
      "image/png": "[encoded data removed]",
      "text/plain": [
       "<Figure size 640x480 with 1 Axes>"
      ]
     },
     "metadata": {},
     "output_type": "display_data"
    }
   ],
   "source": [
    "sns.scatterplot(data=df_crypto, x='High', y='Marketcap')\n",
    "plt.title(\"Corr between High and Marketcap\", fontsize = 16)"
   ]
  },
  {
   "cell_type": "code",
   "execution_count": 16,
   "id": "5151f221",
   "metadata": {},
   "outputs": [
    {
     "data": {
      "text/plain": [
       "Text(0.5, 1.0, 'Corr between High and Close')"
      ]
     },
     "execution_count": 16,
     "metadata": {},
     "output_type": "execute_result"
    },
    {
     "data": {
      "image/png": "[encoded data removed]",
      "text/plain": [
       "<Figure size 640x480 with 1 Axes>"
      ]
     },
     "metadata": {},
     "output_type": "display_data"
    }
   ],
   "source": [
    "sns.scatterplot(data=df_crypto, x='High', y='Close')\n",
    "plt.title(\"Corr between High and Close\", fontsize = 16)"
   ]
  },
  {
   "cell_type": "code",
   "execution_count": 17,
   "id": "783e1ebd",
   "metadata": {},
   "outputs": [
    {
     "data": {
      "text/plain": [
       "<AxesSubplot: xlabel='High', ylabel='Density'>"
      ]
     },
     "execution_count": 17,
     "metadata": {},
     "output_type": "execute_result"
    },
    {
     "data": {
      "image/png": "[encoded data removed]",
      "text/plain": [
       "<Figure size 1000x600 with 1 Axes>"
      ]
     },
     "metadata": {},
     "output_type": "display_data"
    }
   ],
   "source": [
    "plt.figure(figsize=(10,6))\n",
    "sns.distplot(df_crypto.High)"
   ]
  },
  {
   "cell_type": "code",
   "execution_count": 18,
   "id": "a82c7bfb",
   "metadata": {},
   "outputs": [
    {
     "data": {
      "text/plain": [
       "<AxesSubplot: xlabel='Low', ylabel='Density'>"
      ]
     },
     "execution_count": 18,
     "metadata": {},
     "output_type": "execute_result"
    },
    {
     "data": {
      "image/png": "[encoded data removed]",
      "text/plain": [
       "<Figure size 1000x600 with 1 Axes>"
      ]
     },
     "metadata": {},
     "output_type": "display_data"
    }
   ],
   "source": [
    "plt.figure(figsize=(10,6))\n",
    "sns.distplot(df_crypto.Low)"
   ]
  },
  {
   "cell_type": "code",
   "execution_count": 19,
   "id": "6726129d",
   "metadata": {},
   "outputs": [],
   "source": [
    "def triple_plot(x, title,c):\n",
    "    fig, ax = plt.subplots(3,1,figsize=(25,10),sharex=True)\n",
    "    sns.distplot(x, ax=ax[0],color=c)\n",
    "    ax[0].set(xlabel=None)\n",
    "    ax[0].set_title('Histogram + KDE')\n",
    "    sns.boxplot(x, ax=ax[1],color=c)\n",
    "    ax[1].set(xlabel=None)\n",
    "    ax[1].set_title('Boxplot')\n",
    "    sns.violinplot(x, ax=ax[2],color=c)\n",
    "    ax[2].set(xlabel=None)\n",
    "    ax[2].set_title('Violin plot')\n",
    "    fig.suptitle(title, fontsize=30)\n",
    "    plt.tight_layout(pad=3.0)\n",
    "    plt.show()"
   ]
  },
  {
   "cell_type": "code",
   "execution_count": null,
   "id": "6575a09c",
   "metadata": {},
   "outputs": [],
   "source": [
    "custom_colors = [\"#4e89ae\", \"#c56183\",\"#ed6663\",\"#ffa372\"]\n",
    "triple_plot(df_crypto['Close'],'Distribution of Close price',custom_colors[0])"
   ]
  },
  {
   "cell_type": "code",
   "execution_count": null,
   "id": "ab64b791",
   "metadata": {},
   "outputs": [],
   "source": [
    "#verifying outliers:\n",
    "\n",
    "exclude = ['SNo', 'Name', 'Symbol', 'Date']\n",
    "df_crypto.loc[:, df_crypto.columns.difference(exclude)].plot.box(grid=False, fontsize=10, vert=False)"
   ]
  },
  {
   "cell_type": "code",
   "execution_count": null,
   "id": "63bcfc79",
   "metadata": {},
   "outputs": [],
   "source": [
    "#creating a new data frame with metric 'CLOSE':\n",
    "df= pd.DataFrame({'BTC': df_btc['Close'],'ETH': df_eth ['Close'], 'USDT' : df_usdt ['Close'],'BNB': df_bnb ['Close'], 'USDC': df_usdc ['Close'], 'SOL': df_sol ['Close'], 'XRP': df_xrp ['Close'], 'ADA': df_ada ['Close']})"
   ]
  },
  {
   "cell_type": "code",
   "execution_count": null,
   "id": "d5718411",
   "metadata": {},
   "outputs": [],
   "source": [
    "df.head()"
   ]
  },
  {
   "cell_type": "markdown",
   "id": "bf98bc88",
   "metadata": {},
   "source": [
    "### Measures of variability"
   ]
  },
  {
   "cell_type": "code",
   "execution_count": null,
   "id": "46ce8e23",
   "metadata": {},
   "outputs": [],
   "source": [
    "df.describe()"
   ]
  },
  {
   "cell_type": "markdown",
   "id": "b4a85941",
   "metadata": {},
   "source": [
    "### Daily Returns"
   ]
  },
  {
   "cell_type": "code",
   "execution_count": null,
   "id": "f0a8090d",
   "metadata": {},
   "outputs": [],
   "source": [
    "#the average daily return \n",
    "\n",
    "DR = df.pct_change(1)\n",
    "\n",
    "print('The average daily return:')\n",
    "DR.mean().sort_values(ascending=False)"
   ]
  },
  {
   "cell_type": "code",
   "execution_count": null,
   "id": "5f4fc823",
   "metadata": {},
   "outputs": [],
   "source": [
    "#Daily returns ( variance, std)\n",
    "plt.figure(figsize= (12,4))\n",
    "for c in DR.columns.values:\n",
    "    plt.plot(DR.index, DR[c], lw = 2, alpha = .7)\n",
    "\n",
    "plt.title('Daily Returns')\n",
    "plt.ylabel('Percentage in decimal form')\n",
    "plt.xlabel('Days')\n",
    "plt.legend(DR.columns.values, loc = 'upper right')\n",
    "plt.show()"
   ]
  },
  {
   "cell_type": "markdown",
   "id": "52212663",
   "metadata": {},
   "source": [
    "### Heat Map Correlation"
   ]
  },
  {
   "cell_type": "code",
   "execution_count": null,
   "id": "f68e2ea9",
   "metadata": {},
   "outputs": [],
   "source": [
    "corr = df.corr()\n",
    "plt.figure(figsize=(13,7))\n",
    "\n",
    "mask = np.zeros_like(corr)\n",
    "mask[np.triu_indices_from(mask, 1)] = True\n",
    "heat_map = sns.heatmap(corr, mask=mask, annot=True, vmax=1, vmin=-1, fmt='.2f', cmap= 'BrBG')\n",
    "\n",
    "rotx = heat_map.set_xticklabels(heat_map.get_xticklabels())\n",
    "roty = heat_map.set_yticklabels(heat_map.get_yticklabels())"
   ]
  },
  {
   "cell_type": "code",
   "execution_count": null,
   "id": "d32b9582",
   "metadata": {
    "scrolled": true
   },
   "outputs": [],
   "source": [
    "DR.corr()"
   ]
  },
  {
   "cell_type": "markdown",
   "id": "8e241761",
   "metadata": {},
   "source": [
    "### Volatility "
   ]
  },
  {
   "cell_type": "code",
   "execution_count": null,
   "id": "7350e688",
   "metadata": {},
   "outputs": [],
   "source": [
    "#get the volatility through the std ( square root of the variance)\n",
    "print('The cryptocurrency volatility')\n",
    "DR.std().sort_values(ascending=False)"
   ]
  },
  {
   "cell_type": "code",
   "execution_count": null,
   "id": "dfbbd74f",
   "metadata": {},
   "outputs": [],
   "source": [
    "#Daily Cumulative Return\n",
    "DCR = (DR+1).cumprod()"
   ]
  },
  {
   "cell_type": "code",
   "execution_count": null,
   "id": "57259750",
   "metadata": {},
   "outputs": [],
   "source": [
    "#Daily returns ( variance, std)\n",
    "plt.figure(figsize= (12.5,4.5))\n",
    "for c in DCR.columns.values:\n",
    "    plt.plot(DCR.index, DCR[c], lw = 2, label = c)\n",
    "\n",
    "plt.title('Daily Cumulative Returns')\n",
    "plt.ylabel('Growth of 1$ investiment')\n",
    "plt.xlabel('Days')\n",
    "plt.legend(DCR.columns.values, loc = 'upper left')\n",
    "plt.show()"
   ]
  },
  {
   "cell_type": "markdown",
   "id": "7653d681",
   "metadata": {},
   "source": [
    "#### Bitcoin"
   ]
  },
  {
   "cell_type": "code",
   "execution_count": null,
   "id": "9efccbb5",
   "metadata": {},
   "outputs": [],
   "source": [
    "df_btc.head()"
   ]
  },
  {
   "cell_type": "code",
   "execution_count": null,
   "id": "c0fc6045",
   "metadata": {},
   "outputs": [],
   "source": [
    "df_btc.shape"
   ]
  },
  {
   "cell_type": "code",
   "execution_count": null,
   "id": "423c7ed1",
   "metadata": {},
   "outputs": [],
   "source": [
    "df_btc.describe()"
   ]
  },
  {
   "cell_type": "code",
   "execution_count": null,
   "id": "e3f2f53d",
   "metadata": {},
   "outputs": [],
   "source": [
    "custom_colors = [\"#4e89ae\", \"#c56183\",\"#ed6663\",\"#ffa372\"]\n",
    "triple_plot(df_btc['Close'],'Distribution of Close price',custom_colors[0])"
   ]
  },
  {
   "cell_type": "code",
   "execution_count": null,
   "id": "9ecb00f6",
   "metadata": {},
   "outputs": [],
   "source": [
    "df_btc.hist(column=['High', 'Low', 'Open', 'Close', 'Volume', 'Marketcap'],figsize=(10,10),color=\"orange\",bins=100, grid=False);"
   ]
  },
  {
   "cell_type": "markdown",
   "id": "2760ac5d",
   "metadata": {},
   "source": [
    "#### Ethereum"
   ]
  },
  {
   "cell_type": "code",
   "execution_count": null,
   "id": "9bc3ad10",
   "metadata": {},
   "outputs": [],
   "source": [
    "df_eth.head()"
   ]
  },
  {
   "cell_type": "code",
   "execution_count": null,
   "id": "d47a7660",
   "metadata": {},
   "outputs": [],
   "source": [
    "df_eth.shape"
   ]
  },
  {
   "cell_type": "code",
   "execution_count": null,
   "id": "32079ef7",
   "metadata": {},
   "outputs": [],
   "source": [
    "df_eth.describe()"
   ]
  },
  {
   "cell_type": "markdown",
   "id": "052d6ec3",
   "metadata": {},
   "source": [
    "#### XRP"
   ]
  },
  {
   "cell_type": "code",
   "execution_count": null,
   "id": "1cac6a70",
   "metadata": {},
   "outputs": [],
   "source": [
    "df_xrp.head()"
   ]
  },
  {
   "cell_type": "code",
   "execution_count": null,
   "id": "c02399f6",
   "metadata": {},
   "outputs": [],
   "source": [
    "df_xrp.shape"
   ]
  },
  {
   "cell_type": "code",
   "execution_count": null,
   "id": "a5e2dea6",
   "metadata": {},
   "outputs": [],
   "source": [
    "df_xrp.describe()"
   ]
  },
  {
   "cell_type": "code",
   "execution_count": null,
   "id": "86d8ae4d",
   "metadata": {},
   "outputs": [],
   "source": [
    "custom_colors = [\"#4e89ae\", \"#c56183\",\"#ed6663\",\"#ffa372\"]\n",
    "triple_plot(df_xrp['Close'],'Distribution of Close price',custom_colors[0])"
   ]
  },
  {
   "cell_type": "markdown",
   "id": "207525d1",
   "metadata": {},
   "source": [
    "### Treating Data Column"
   ]
  },
  {
   "cell_type": "markdown",
   "id": "6a4331f2",
   "metadata": {},
   "source": [
    "#### Bitcoin:"
   ]
  },
  {
   "cell_type": "code",
   "execution_count": null,
   "id": "53bc0d90",
   "metadata": {
    "scrolled": true
   },
   "outputs": [],
   "source": [
    "#Creating columns for Month and Year\n",
    "df_btc['Month'] = pd.DatetimeIndex(pd.to_datetime(df_btc['Date'], dayfirst=True)).month\n",
    "df_btc['Year'] = pd.DatetimeIndex(pd.to_datetime(df_btc['Date'], dayfirst=True)).year\n",
    "df_btc['Day'] = pd.DatetimeIndex(pd.to_datetime(df_btc['Date'], dayfirst= True)).day\n",
    "\n",
    "#Checking all the changes so far\n",
    "df_btc.head()"
   ]
  },
  {
   "cell_type": "code",
   "execution_count": null,
   "id": "0902f1f7",
   "metadata": {},
   "outputs": [],
   "source": [
    "df_btc.set_index('SNo')"
   ]
  },
  {
   "cell_type": "code",
   "execution_count": null,
   "id": "dd77e26a",
   "metadata": {},
   "outputs": [],
   "source": [
    "df_sol.set_index('SNo')"
   ]
  },
  {
   "cell_type": "markdown",
   "id": "44249155",
   "metadata": {},
   "source": [
    "#### Ethereum:"
   ]
  },
  {
   "cell_type": "code",
   "execution_count": null,
   "id": "9329719a",
   "metadata": {
    "scrolled": false
   },
   "outputs": [],
   "source": [
    "#Creating columns for Month and Year\n",
    "df_eth['Month'] = pd.DatetimeIndex(pd.to_datetime(df_eth['Date'], dayfirst=True)).month\n",
    "df_eth['Year'] = pd.DatetimeIndex(pd.to_datetime(df_eth['Date'], dayfirst=True)).year\n",
    "df_eth['Day'] = pd.DatetimeIndex(pd.to_datetime(df_eth['Date'], dayfirst= True)).day\n",
    "\n",
    "#Checking all the changes so far\n",
    "df_eth.head()"
   ]
  },
  {
   "cell_type": "code",
   "execution_count": null,
   "id": "372988f9",
   "metadata": {},
   "outputs": [],
   "source": [
    "df_eth.set_index('SNo')"
   ]
  },
  {
   "cell_type": "markdown",
   "id": "e1c5cd2c",
   "metadata": {},
   "source": [
    "#### XRP:"
   ]
  },
  {
   "cell_type": "code",
   "execution_count": null,
   "id": "0364db22",
   "metadata": {
    "scrolled": false
   },
   "outputs": [],
   "source": [
    "#Creating columns for Month and Year\n",
    "df_xrp['Month'] = pd.DatetimeIndex(pd.to_datetime(df_xrp['Date'], dayfirst=True)).month\n",
    "df_xrp['Year'] = pd.DatetimeIndex(pd.to_datetime(df_xrp['Date'], dayfirst=True)).year\n",
    "df_xrp['Day'] = pd.DatetimeIndex(pd.to_datetime(df_xrp['Date'], dayfirst= True)).day\n",
    "\n",
    "#Checking all the changes so far\n",
    "df_xrp.head()"
   ]
  },
  {
   "cell_type": "code",
   "execution_count": null,
   "id": "e9464f9a",
   "metadata": {},
   "outputs": [],
   "source": [
    "df_xrp.set_index('SNo')"
   ]
  },
  {
   "cell_type": "markdown",
   "id": "4d37e0d9",
   "metadata": {},
   "source": [
    "#### ADA:"
   ]
  },
  {
   "cell_type": "code",
   "execution_count": null,
   "id": "4002ad7e",
   "metadata": {
    "scrolled": false
   },
   "outputs": [],
   "source": [
    "#Creating columns for Month and Year\n",
    "df_ada['Month'] = pd.DatetimeIndex(pd.to_datetime(df_ada['Date'], dayfirst=True)).month\n",
    "df_ada['Year'] = pd.DatetimeIndex(pd.to_datetime(df_ada['Date'], dayfirst=True)).year\n",
    "df_ada['Day'] = pd.DatetimeIndex(pd.to_datetime(df_ada['Date'], dayfirst= True)).day\n",
    "\n",
    "#Checking all the changes so far\n",
    "df_ada.head()"
   ]
  },
  {
   "cell_type": "code",
   "execution_count": null,
   "id": "76747b5d",
   "metadata": {},
   "outputs": [],
   "source": [
    "df_ada.set_index('SNo')"
   ]
  },
  {
   "cell_type": "markdown",
   "id": "2eb25d50",
   "metadata": {},
   "source": [
    "#Label Encoder used to avoid sparse data:\n",
    "\n",
    "from sklearn.preprocessing import LabelEncoder\n",
    "le = LabelEncoder()\n",
    "le.fit_transform(df_crypto['Symbol'])"
   ]
  },
  {
   "cell_type": "markdown",
   "id": "36528688",
   "metadata": {},
   "source": [
    "df_crypto['Symbol_Encoded'] = le.transform(df_crypto['Symbol'])\n",
    "df_crypto.head()"
   ]
  },
  {
   "cell_type": "code",
   "execution_count": null,
   "id": "33a0f7f8",
   "metadata": {},
   "outputs": [],
   "source": [
    "df_btc1 = df_btc.drop(columns = ['Symbol', 'Name'])\n",
    "df_sol1 = df_sol.drop(columns = ['Symbol', 'Name'])\n",
    "df_eth1 = df_eth.drop(columns = ['Symbol', 'Name'])\n",
    "df_xrp1 = df_xrp.drop(columns = ['Symbol', 'Name'])\n",
    "df_ada1 = df_ada.drop(columns = ['Symbol', 'Name'])"
   ]
  },
  {
   "cell_type": "markdown",
   "id": "c3091daa",
   "metadata": {},
   "source": [
    "### Outliers"
   ]
  },
  {
   "cell_type": "code",
   "execution_count": null,
   "id": "60a34b60",
   "metadata": {},
   "outputs": [],
   "source": [
    "df_btc1.plot.box(grid=False, fontsize=12, vert=False)\n",
    "plt.title(\"Outliers Bitcoin\", fontsize = 12)"
   ]
  },
  {
   "cell_type": "code",
   "execution_count": null,
   "id": "d9f540c8",
   "metadata": {},
   "outputs": [],
   "source": [
    "df_sol1.plot.box(grid=False, fontsize=12, vert=False)\n",
    "plt.title(\"Outliers Solano\", fontsize = 12)"
   ]
  },
  {
   "cell_type": "code",
   "execution_count": null,
   "id": "46410938",
   "metadata": {},
   "outputs": [],
   "source": [
    "df_eth1.plot.box(grid=False, fontsize=12, vert=False)\n",
    "plt.title(\"Outliers Ethereum\", fontsize = 12)"
   ]
  },
  {
   "cell_type": "code",
   "execution_count": null,
   "id": "07bedf81",
   "metadata": {},
   "outputs": [],
   "source": [
    "df_xrp1.plot.box(grid=False, fontsize=12, vert=False)\n",
    "plt.title(\"Outliers XRP\", fontsize = 12)"
   ]
  },
  {
   "cell_type": "code",
   "execution_count": null,
   "id": "e12faf85",
   "metadata": {
    "scrolled": true
   },
   "outputs": [],
   "source": [
    "df_ada1.plot.box(grid=False, fontsize=12, vert=False)\n",
    "plt.title(\"Outliers ADA\", fontsize = 12)"
   ]
  },
  {
   "cell_type": "markdown",
   "id": "ef72e8ce",
   "metadata": {},
   "source": [
    "## Modeling"
   ]
  },
  {
   "cell_type": "markdown",
   "id": "45e06e8d",
   "metadata": {},
   "source": [
    "## BITCOIN"
   ]
  },
  {
   "cell_type": "code",
   "execution_count": null,
   "id": "4a2004f2",
   "metadata": {},
   "outputs": [],
   "source": [
    "projection_Bitcoin = 5\n",
    "#creation of a new column with a name prediction\n",
    "df_btc1['Prediction'] = df_btc1[['Close']].shift(-projection_Bitcoin)\n",
    "df_btc1"
   ]
  },
  {
   "cell_type": "code",
   "execution_count": null,
   "id": "87e70faa",
   "metadata": {},
   "outputs": [],
   "source": [
    "# Defining X and y\n",
    "\n",
    "X_Bitcoin = np.array(df_btc1[['Close']])\n",
    "X_Bitcoin = X_Bitcoin[:-projection_Bitcoin]\n",
    "\n",
    "y_Bitcoin = df_btc1['Prediction'].values\n",
    "y_Bitcoin = y_Bitcoin[:-projection_Bitcoin]"
   ]
  },
  {
   "cell_type": "code",
   "execution_count": null,
   "id": "03950531",
   "metadata": {},
   "outputs": [],
   "source": [
    "import pylab as p\n",
    "import matplotlib.pyplot as plt\n",
    "from collections import Counter\n",
    "import re\n",
    "\n",
    "#importing packages for the predictions of time-series data\n",
    "\n",
    "import statsmodels.api as sm\n",
    "import statsmodels.tsa.api as smt\n",
    "import statsmodels.formula.api as smf\n",
    "\n",
    "from sklearn.metrics import mean_squared_error"
   ]
  },
  {
   "cell_type": "code",
   "execution_count": null,
   "id": "cb2ec46d",
   "metadata": {},
   "outputs": [],
   "source": [
    "# Defining X and y\n",
    "\n",
    "X_Bitcoin = np.array(df_btc1[['Close']])\n",
    "X_Bitcoin = X_Bitcoin[:-projection_Bitcoin]\n",
    "\n",
    "y_Bitcoin = df_btc1['Prediction'].values\n",
    "y_Bitcoin = y_Bitcoin[:-projection_Bitcoin]"
   ]
  },
  {
   "cell_type": "code",
   "execution_count": null,
   "id": "9527c62a",
   "metadata": {},
   "outputs": [],
   "source": [
    "X_Bitcoin.dtype"
   ]
  },
  {
   "cell_type": "markdown",
   "id": "15e90ee9",
   "metadata": {},
   "source": [
    "## TIME SERIES - BITCOIN"
   ]
  },
  {
   "cell_type": "markdown",
   "id": "666c5b20",
   "metadata": {},
   "source": [
    "## Bitcoin Close Price Prediction by ARIMA"
   ]
  },
  {
   "cell_type": "code",
   "execution_count": null,
   "id": "87b83a09",
   "metadata": {},
   "outputs": [],
   "source": [
    "#Waseem Start"
   ]
  },
  {
   "cell_type": "code",
   "execution_count": null,
   "id": "d29a865b",
   "metadata": {},
   "outputs": [],
   "source": [
    "# Unix-time to \n",
    "df_btc1.Timestamp = pd.to_datetime(df_btc1.Date)\n",
    "\n",
    "# Resampling to daily frequency\n",
    "df_btc1.index = df_btc1.Timestamp\n",
    "df_daily = df_btc1.resample('D').mean()\n",
    "\n",
    "# Resampling to monthly frequency\n",
    "df_month = df_btc1.resample('M').mean()\n",
    "# Resampling to annual frequency\n",
    "df_year = df_btc1.resample('A-DEC').mean()\n",
    "\n",
    "# Resampling to quarterly frequency\n",
    "df_Q = df_btc1.resample('Q-DEC').mean()"
   ]
  },
  {
   "cell_type": "code",
   "execution_count": null,
   "id": "9560ff80",
   "metadata": {},
   "outputs": [],
   "source": [
    "# PLOTS\n",
    "fig = plt.figure(figsize=[15, 7])\n",
    "plt.suptitle('Bitcoin exchanges', fontsize=22)\n",
    "\n",
    "plt.subplot(221)\n",
    "plt.plot(df_daily.Close, '-', label='By Days')\n",
    "plt.legend()\n",
    "\n",
    "\n",
    "plt.subplot(222)\n",
    "plt.plot(df_month.Close, '-', label='By Months')\n",
    "plt.legend()\n",
    "\n",
    "plt.subplot(223)\n",
    "plt.plot(df_Q.Close, '-', label='By Quarters')\n",
    "plt.legend()\n",
    "\n",
    "plt.subplot(224)\n",
    "plt.plot(df_year.Close, '-', label='By Years')\n",
    "plt.legend()\n",
    "\n",
    "# plt.tight_layout()\n",
    "plt.show()"
   ]
  },
  {
   "cell_type": "code",
   "execution_count": null,
   "id": "dbee1522",
   "metadata": {},
   "outputs": [],
   "source": [
    "from scipy import stats\n",
    "import statsmodels.api as sm\n",
    "df_month['Close_Price_box'], lmbda = stats.boxcox(df_month.Close)\n",
    "print(\"Dickey–Fuller test: p=%f\" % sm.tsa.stattools.adfuller(df_month.Close)[1])"
   ]
  },
  {
   "cell_type": "code",
   "execution_count": null,
   "id": "4c420cab",
   "metadata": {},
   "outputs": [],
   "source": [
    "from itertools import product\n",
    "# Initial approximation of parameters\n",
    "Qs = range(0, 2)\n",
    "qs = range(0, 3)\n",
    "Ps = range(0, 3)\n",
    "ps = range(0, 3)\n",
    "D=1\n",
    "d=1\n",
    "parameters = product(ps, qs, Ps, Qs)\n",
    "parameters_list = list(parameters)\n",
    "len(parameters_list)\n",
    "\n",
    "# Model Selection\n",
    "results = []\n",
    "best_aic = float(\"inf\")\n",
    "warnings.filterwarnings('ignore')\n",
    "for param in parameters_list:\n",
    "    try:\n",
    "        model=sm.tsa.statespace.SARIMAX(df_month.Close, order=(param[0], d, param[1]), \n",
    "                                        seasonal_order=(param[2], D, param[3], 12)).fit(disp=-1)\n",
    "    except ValueError:\n",
    "        print('wrong parameters:', param)\n",
    "        continue\n",
    "    aic = model.aic\n",
    "    if aic < best_aic:\n",
    "        best_model = model\n",
    "        best_aic = aic\n",
    "        best_param = param\n",
    "    results.append([param, model.aic])"
   ]
  },
  {
   "cell_type": "code",
   "execution_count": null,
   "id": "550782a7",
   "metadata": {},
   "outputs": [],
   "source": [
    "# Best Models\n",
    "result_table = pd.DataFrame(results)\n",
    "result_table.columns = ['parameters', 'aic']\n",
    "print(result_table.sort_values(by = 'aic', ascending=True).head())\n",
    "print(best_model.summary())"
   ]
  },
  {
   "cell_type": "code",
   "execution_count": null,
   "id": "9450ebbd",
   "metadata": {},
   "outputs": [],
   "source": [
    "# STL-decomposition\n",
    "plt.figure(figsize=(15,7))\n",
    "plt.subplot(211)\n",
    "best_model.resid[13:].plot()\n",
    "plt.ylabel(u'Residuals')\n",
    "ax = plt.subplot(212)\n",
    "sm.graphics.tsa.plot_acf(best_model.resid[13:].values.squeeze(), lags=48, ax=ax)\n",
    "\n",
    "print(\"Dickey–Fuller test:: p=%f\" % sm.tsa.stattools.adfuller(best_model.resid[13:])[1])\n",
    "\n",
    "plt.tight_layout()\n",
    "plt.show()"
   ]
  },
  {
   "cell_type": "code",
   "execution_count": null,
   "id": "0bfc532e",
   "metadata": {},
   "outputs": [],
   "source": [
    "data = df_btc['Close']\n",
    "Date1 = df_btc['Date']\n",
    "bc_train1 = df_btc[['Date','Close']]\n",
    "# Setting the Date as Index\n",
    "bc_train2 = bc_train1.set_index('Date')\n",
    "bc_train2.sort_index(inplace=True)\n",
    "print (type(bc_train2))\n",
    "print (bc_train2.head())\n",
    "plt.plot(bc_train2)\n",
    "plt.xlabel('Date', fontsize=12)\n",
    "plt.ylabel('Price in USD', fontsize=12)\n",
    "plt.title(\"Closing price distribution of bitcoin\", fontsize=15)\n",
    "plt.show()"
   ]
  },
  {
   "cell_type": "code",
   "execution_count": null,
   "id": "87ce1930",
   "metadata": {},
   "outputs": [],
   "source": [
    "# Spliting the data set into train and test set\n",
    "\n",
    "x_train_Bitcoin, x_test_Bitcoin, y_train_Bitcoin, y_test_Bitcoin = train_test_split(X_Bitcoin,y_Bitcoin,test_size=0.15)"
   ]
  },
  {
   "cell_type": "code",
   "execution_count": null,
   "id": "97c8b0ea",
   "metadata": {},
   "outputs": [],
   "source": [
    "from itertools import cycle\n",
    "import plotly.express as px\n",
    "visualize_Bitcoin = cycle(['Open','Close','High','Low','Prediction'])\n",
    "\n",
    "fig = px.line(df_btc1, x=df_btc1.Date, y=[df_btc1['Open'], df_btc1['Close'], \n",
    "                                          df_btc1['High'], df_btc1['Low'],df_btc1['Prediction']],\n",
    "             labels={'Date': 'Date','value':'Price'})\n",
    "fig.update_layout(title_text='Bitcoin', font_size=15, font_color='black',legend_title_text='Parameters')\n",
    "fig.for_each_trace(lambda t:  t.update(name = next(visualize_Bitcoin)))\n",
    "fig.update_xaxes(showgrid=False)\n",
    "fig.update_yaxes(showgrid=False)\n",
    "\n",
    "fig.show()\n"
   ]
  },
  {
   "cell_type": "code",
   "execution_count": null,
   "id": "315f0b30",
   "metadata": {
    "scrolled": true
   },
   "outputs": [],
   "source": [
    "x_projection_Bitcoin = np.array(df_btc1[['Close']])[-projection_Bitcoin:]\n",
    "print(x_projection_Bitcoin)"
   ]
  },
  {
   "cell_type": "code",
   "execution_count": null,
   "id": "a50f0ce5",
   "metadata": {},
   "outputs": [],
   "source": [
    "#checking stationary BITCOIN: \n",
    "from statsmodels.tsa.stattools import adfuller\n",
    "\n",
    "def test_stationarity(x):\n",
    "\n",
    "\n",
    "    #Determing rolling statistics\n",
    "    rolmean = x.rolling(window=22,center=False).mean()\n",
    "\n",
    "    rolstd = x.rolling(window=12,center=False).std()\n",
    "    \n",
    "    #Plot rolling statistics:\n",
    "    orig = plt.plot(x, color='blue',label='Original')\n",
    "    mean = plt.plot(rolmean, color='red', label='Rolling Mean')\n",
    "    std = plt.plot(rolstd, color='black', label = 'Rolling Std')\n",
    "    plt.legend(loc='best')\n",
    "    plt.title('Rolling Mean & Standard Deviation')\n",
    "    plt.show(block=False)\n",
    "    \n",
    "    #Perform Dickey Fuller test    \n",
    "    result=adfuller(x)\n",
    "    print('ADF Stastistic: %f'%result[0])\n",
    "    print('p-value: %f'%result[1])\n",
    "    pvalue=result[1]\n",
    "    for key,value in result[4].items():\n",
    "        if result[0]>value:\n",
    "            print(\"The graph is non stationery\")\n",
    "            break\n",
    "        else:\n",
    "            print(\"The graph is stationery\")\n",
    "            break;\n",
    "    print('Critical values:')\n",
    "    for key,value in result[4].items():\n",
    "        print('\\t%s: %.3f ' % (key, value))\n",
    "        \n",
    "ts = df_btc['Close']      \n",
    "test_stationarity(ts)"
   ]
  },
  {
   "cell_type": "code",
   "execution_count": null,
   "id": "a8a31cf8",
   "metadata": {},
   "outputs": [],
   "source": [
    "import statsmodels.api as sm\n",
    "from statsmodels.tsa.arima_model import ARIMA\n",
    "\n",
    "temp_Y = df_btc['Close']\n",
    "res = sm.tsa.seasonal_decompose(temp_Y,period=52)\n",
    "fig = res.plot()\n",
    "fig.set_figheight(8)\n",
    "fig.set_figwidth(15)\n",
    "plt.show()"
   ]
  },
  {
   "cell_type": "markdown",
   "id": "c504685a",
   "metadata": {},
   "source": [
    "## Bitcoin Close Price Prediction by Random Forest"
   ]
  },
  {
   "cell_type": "code",
   "execution_count": null,
   "id": "a281ad4c",
   "metadata": {},
   "outputs": [],
   "source": [
    "df_btc1 = df_btc.drop(['SNo','Name','Symbol','Date'], axis=1)"
   ]
  },
  {
   "cell_type": "code",
   "execution_count": null,
   "id": "56c1a717",
   "metadata": {},
   "outputs": [],
   "source": [
    "df_btc1.index.name = 'Date'\n",
    "df_btc1.index = pd.to_datetime(df_btc1.index)\n",
    "#df_btc = df_btc[:-1].astype(float) # drop last row (missing closing prices)"
   ]
  },
  {
   "cell_type": "code",
   "execution_count": null,
   "id": "56e8eca7",
   "metadata": {},
   "outputs": [],
   "source": [
    "# Prepare training/test DataFrames. \n",
    "train_end = pd.to_datetime(datetime(2021, 7, 2))\n",
    "test_start = pd.to_datetime(datetime(2021, 6, 5))\n",
    "target = 'Close'\n",
    "\n",
    "train_df = df_btc1.loc[:train_end]\n",
    "test_df = df_btc1.loc[train_end:] \n",
    "\n",
    "features = df_btc1.drop(target, axis=1).values\n",
    "#X_test = df_btc1.copy().drop(target, axis=1).values\n",
    "class_target = df_btc1[target].values\n",
    "#y_test = df_btc1[target].values"
   ]
  },
  {
   "cell_type": "code",
   "execution_count": null,
   "id": "57dd1d45",
   "metadata": {},
   "outputs": [],
   "source": [
    "x_train_Bitcoin, x_test_Bitcoin, y_train_Bitcoin, y_test_Bitcoin = train_test_split(features,class_target,test_size=0.15)"
   ]
  },
  {
   "cell_type": "code",
   "execution_count": null,
   "id": "1fb9341e",
   "metadata": {},
   "outputs": [],
   "source": [
    "# Perform grid search for hyperparameters. \n",
    "def Grid_Search_CV_RFR(X_train, y_train):\n",
    "    reg = RandomForestRegressor()\n",
    "    param_grid = { \n",
    "            \"n_estimators\"      : [5,10,50],\n",
    "            \"max_features\"      : [\"auto\", \"sqrt\", \"log2\"],\n",
    "            \"min_samples_leaf\" : [1,3,5]\n",
    "            }\n",
    "\n",
    "    tss_splits = TimeSeriesSplit(n_splits=10).split(X_train)\n",
    "    grid = GridSearchCV(reg, param_grid, cv=tss_splits, verbose=0)\n",
    "    #grid = GridSearchCV(reg, param_grid, cv=3, verbose=0)\n",
    "\n",
    "    grid.fit(X_train, y_train)\n",
    "\n",
    "    return grid.best_score_ , grid.best_params_\n",
    "\n",
    "best_score, best_params = Grid_Search_CV_RFR(x_train_Bitcoin, y_train_Bitcoin)"
   ]
  },
  {
   "cell_type": "code",
   "execution_count": null,
   "id": "9102fcaa",
   "metadata": {},
   "outputs": [],
   "source": [
    "mf = best_params['max_features']\n",
    "msl = best_params['min_samples_leaf']\n",
    "ne = best_params['n_estimators']"
   ]
  },
  {
   "cell_type": "code",
   "execution_count": null,
   "id": "471bfdfb",
   "metadata": {},
   "outputs": [],
   "source": [
    "mf"
   ]
  },
  {
   "cell_type": "code",
   "execution_count": null,
   "id": "83060ea9",
   "metadata": {},
   "outputs": [],
   "source": [
    "msl"
   ]
  },
  {
   "cell_type": "code",
   "execution_count": null,
   "id": "74966802",
   "metadata": {},
   "outputs": [],
   "source": [
    "ne"
   ]
  },
  {
   "cell_type": "code",
   "execution_count": null,
   "id": "f45cba7f",
   "metadata": {},
   "outputs": [],
   "source": [
    "# Fit RFR with best parameters from grid search.\n",
    "rfr = RandomForestRegressor(n_estimators=ne, max_features=mf, min_samples_leaf=msl, random_state=10)\n",
    "rfr.fit(x_train_Bitcoin, y_train_Bitcoin)"
   ]
  },
  {
   "cell_type": "code",
   "execution_count": null,
   "id": "1ea759ef",
   "metadata": {},
   "outputs": [],
   "source": [
    "# Examine feature importances.\n",
    "#features = train_df.copy().drop(target, axis=1).columns\n",
    "importances = rfr.feature_importances_\n",
    "indices = np.argsort(importances)\n",
    "\n",
    "trace = go.Bar(\n",
    "    x=features[indices],\n",
    "    y=importances[indices],\n",
    "    marker = dict(color='green')\n",
    ")\n",
    "\n",
    "data=[trace]\n",
    "\n",
    "# Edit the layout, then plot!\n",
    "layout = dict(title = 'Feature Importance (Random Forest)',\n",
    "              yaxis = dict(title = 'Relative Importance'),\n",
    "              xaxis = dict(autorange='reversed',\n",
    "                           tickfont=dict(size=10))\n",
    "              )\n",
    "\n",
    "fig = dict(data=data, layout=layout)\n",
    "iplot(fig, filename='importance')"
   ]
  },
  {
   "cell_type": "code",
   "execution_count": null,
   "id": "89abc085",
   "metadata": {},
   "outputs": [],
   "source": [
    "# Get predictions for train/test sets.\n",
    "train_pred = rfr.predict(x_train_Bitcoin)\n",
    "test_pred = rfr.predict(x_test_Bitcoin)"
   ]
  },
  {
   "cell_type": "code",
   "execution_count": null,
   "id": "d6fce3b9",
   "metadata": {},
   "outputs": [],
   "source": [
    "mse1 = mean_squared_error(y_test_Bitcoin, test_pred)\n",
    "rmse1 = mse1**.5\n",
    "print(\"Square root error: mse = %f\" % mse1)\n",
    "print(\"root mean squared error: rmse = %f\" % rmse1)"
   ]
  },
  {
   "cell_type": "code",
   "execution_count": null,
   "id": "933745c6",
   "metadata": {},
   "outputs": [],
   "source": [
    "# Calculate the absolute errors\n",
    "errors_bit = abs(test_pred - y_test_Bitcoin)"
   ]
  },
  {
   "cell_type": "code",
   "execution_count": null,
   "id": "0c0914aa",
   "metadata": {},
   "outputs": [],
   "source": [
    "# Calculate mean absolute percentage error (MAPE)\n",
    "mape1 = 100 * (errors_bit / y_test_Bitcoin)\n",
    "# Calculate and display accuracy\n",
    "accuracy1 = 100 - np.mean(mape1)\n",
    "print('RF EXP Model Accuracy:', round(accuracy1, 2), '%.')"
   ]
  },
  {
   "cell_type": "code",
   "execution_count": null,
   "id": "9141a32e",
   "metadata": {},
   "outputs": [],
   "source": [
    "# Create traces.\n",
    "def create_trace(df, color, label):\n",
    "    dates = df.index \n",
    "    prices = df[df.columns[0]].values\n",
    "\n",
    "    trace = go.Scatter(\n",
    "        x = dates,\n",
    "        y = prices,\n",
    "        name = label,\n",
    "        line = dict(color=color)\n",
    "    )\n",
    "    return trace\n",
    "\n",
    "train_act_df = pd.DataFrame(y_train_Bitcoin)\n",
    "train_act_df.columns = ['act_close']\n",
    "train_pred_df = pd.DataFrame(train_pred)\n",
    "train_pred_df.columns = ['pred_close']\n",
    "\n",
    "pred_trace = create_trace(train_pred_df, 'red', 'Predicted')\n",
    "act_trace = create_trace(train_act_df, 'blue', 'Actual')\n",
    "data = [pred_trace, act_trace]"
   ]
  },
  {
   "cell_type": "code",
   "execution_count": null,
   "id": "1d4df82c",
   "metadata": {},
   "outputs": [],
   "source": [
    "# Edit the layout, then plot!\n",
    "layout = dict(title = 'Ethereum Closing Price (Training)',\n",
    "              xaxis = dict(title = 'Date'),\n",
    "              yaxis = dict(title = 'Closing Price'),\n",
    "              )\n",
    "\n",
    "fig = dict(data=data, layout=layout)\n",
    "iplot(fig, filename='training-prices')"
   ]
  },
  {
   "cell_type": "code",
   "execution_count": null,
   "id": "c46c72d1",
   "metadata": {},
   "outputs": [],
   "source": [
    "test_act_df = pd.DataFrame(y_test_Bitcoin)\n",
    "test_act_df.columns = ['act_close']\n",
    "test_pred_df = pd.DataFrame(test_pred)\n",
    "test_pred_df.columns = ['pred_close']\n",
    "\n",
    "pred_trace = create_trace(test_pred_df, 'red', 'Predicted')\n",
    "act_trace = create_trace(test_act_df, 'blue', 'Actual')\n",
    "data = [pred_trace, act_trace]"
   ]
  },
  {
   "cell_type": "code",
   "execution_count": null,
   "id": "f7e6fb18",
   "metadata": {},
   "outputs": [],
   "source": [
    "# Edit the layout, then plot!\n",
    "layout = dict(title = 'Bitcoin Closing Price (Test)',\n",
    "              xaxis = dict(title = 'Date'),\n",
    "              yaxis = dict(title = 'Closing Price'),\n",
    "              )\n",
    "\n",
    "fig = dict(data=data, layout=layout)\n",
    "iplot(fig, filename='test-prices')"
   ]
  },
  {
   "cell_type": "markdown",
   "id": "62686546",
   "metadata": {},
   "source": [
    "### End RF"
   ]
  },
  {
   "cell_type": "markdown",
   "id": "e5ac0f90",
   "metadata": {},
   "source": [
    "## XRP"
   ]
  },
  {
   "cell_type": "code",
   "execution_count": null,
   "id": "48d2a63e",
   "metadata": {},
   "outputs": [],
   "source": [
    "# Unix-time to \n",
    "df_xrp1.Timestamp = pd.to_datetime(df_xrp1.Date)\n",
    "\n",
    "# Resampling to daily frequency\n",
    "df_xrp1.index = df_xrp1.Timestamp\n",
    "df_daily = df_xrp1.resample('D').mean()\n",
    "\n",
    "# Resampling to monthly frequency\n",
    "df_month = df_xrp1.resample('M').mean()\n",
    "# Resampling to annual frequency\n",
    "df_year = df_xrp1.resample('A-DEC').mean()\n",
    "\n",
    "# Resampling to quarterly frequency\n",
    "df_Q = df_xrp1.resample('Q-DEC').mean()"
   ]
  },
  {
   "cell_type": "code",
   "execution_count": null,
   "id": "c8d186a3",
   "metadata": {},
   "outputs": [],
   "source": [
    "# PLOTS\n",
    "fig = plt.figure(figsize=[15, 7])\n",
    "plt.suptitle('XRP exchanges', fontsize=22)\n",
    "\n",
    "plt.subplot(221)\n",
    "plt.plot(df_daily.Close, '-', label='By Days')\n",
    "plt.legend()\n",
    "\n",
    "\n",
    "plt.subplot(222)\n",
    "plt.plot(df_month.Close, '-', label='By Months')\n",
    "plt.legend()\n",
    "\n",
    "plt.subplot(223)\n",
    "plt.plot(df_Q.Close, '-', label='By Quarters')\n",
    "plt.legend()\n",
    "\n",
    "plt.subplot(224)\n",
    "plt.plot(df_year.Close, '-', label='By Years')\n",
    "plt.legend()\n",
    "\n",
    "# plt.tight_layout()\n",
    "plt.show()"
   ]
  },
  {
   "cell_type": "code",
   "execution_count": null,
   "id": "715040ac",
   "metadata": {},
   "outputs": [],
   "source": [
    "from scipy import stats\n",
    "import statsmodels.api as sm\n",
    "df_month['Close_Price_box'], lmbda = stats.boxcox(df_month.Close)\n",
    "print(\"Dickey–Fuller test: p=%f\" % sm.tsa.stattools.adfuller(df_month.Close)[1])"
   ]
  },
  {
   "cell_type": "code",
   "execution_count": null,
   "id": "588e47c3",
   "metadata": {},
   "outputs": [],
   "source": [
    "from itertools import product\n",
    "# Initial approximation of parameters\n",
    "Qs = range(0, 2)\n",
    "qs = range(0, 3)\n",
    "Ps = range(0, 3)\n",
    "ps = range(0, 3)\n",
    "D=1\n",
    "d=1\n",
    "parameters = product(ps, qs, Ps, Qs)\n",
    "parameters_list = list(parameters)\n",
    "len(parameters_list)\n",
    "\n",
    "# Model Selection\n",
    "results = []\n",
    "best_aic = float(\"inf\")\n",
    "warnings.filterwarnings('ignore')\n",
    "for param in parameters_list:\n",
    "    try:\n",
    "        model=sm.tsa.statespace.SARIMAX(df_month.Close, order=(param[0], d, param[1]), \n",
    "                                        seasonal_order=(param[2], D, param[3], 12)).fit(disp=-1)\n",
    "    except ValueError:\n",
    "        print('wrong parameters:', param)\n",
    "        continue\n",
    "    aic = model.aic\n",
    "    if aic < best_aic:\n",
    "        best_model = model\n",
    "        best_aic = aic\n",
    "        best_param = param\n",
    "    results.append([param, model.aic])"
   ]
  },
  {
   "cell_type": "code",
   "execution_count": null,
   "id": "27dad348",
   "metadata": {},
   "outputs": [],
   "source": [
    "# Best Models\n",
    "result_table = pd.DataFrame(results)\n",
    "result_table.columns = ['parameters', 'aic']\n",
    "print(result_table.sort_values(by = 'aic', ascending=True).head())\n",
    "print(best_model.summary())"
   ]
  },
  {
   "cell_type": "code",
   "execution_count": null,
   "id": "c9c09c4b",
   "metadata": {},
   "outputs": [],
   "source": [
    "# STL-decomposition\n",
    "plt.figure(figsize=(15,7))\n",
    "plt.subplot(211)\n",
    "best_model.resid[13:].plot()\n",
    "plt.ylabel(u'Residuals')\n",
    "ax = plt.subplot(212)\n",
    "sm.graphics.tsa.plot_acf(best_model.resid[13:].values.squeeze(), lags=48, ax=ax)\n",
    "\n",
    "print(\"Dickey–Fuller test:: p=%f\" % sm.tsa.stattools.adfuller(best_model.resid[13:])[1])\n",
    "\n",
    "plt.tight_layout()\n",
    "plt.show()"
   ]
  },
  {
   "cell_type": "code",
   "execution_count": null,
   "id": "ab20518e",
   "metadata": {},
   "outputs": [],
   "source": [
    "projection_xrp = 5\n",
    "#creation of a new column with a name prediction\n",
    "df_xrp1['Prediction'] = df_xrp1[['Close']].shift(-projection_xrp)\n",
    "df_xrp1.tail(7)"
   ]
  },
  {
   "cell_type": "code",
   "execution_count": null,
   "id": "7b29a5cb",
   "metadata": {
    "scrolled": false
   },
   "outputs": [],
   "source": [
    "visualize_xrp = cycle(['Open','Close','High','Low','Prediction'])\n",
    "\n",
    "fig = px.line(df_xrp1, x=df_xrp1.Date, y=[df_xrp1['Open'], df_xrp1['Close'], \n",
    "                                          df_xrp1['High'], df_xrp1['Low'],df_xrp1['Prediction']],\n",
    "             labels={'Date': 'Date','value':'Price'})\n",
    "fig.update_layout(title_text='XRP', font_size=15, font_color='black',legend_title_text='Parameters')\n",
    "fig.for_each_trace(lambda t:  t.update(name = next(visualize_xrp)))\n",
    "fig.update_xaxes(showgrid=False)\n",
    "fig.update_yaxes(showgrid=False)\n",
    "\n",
    "fig.show()"
   ]
  },
  {
   "cell_type": "code",
   "execution_count": null,
   "id": "76116fe1",
   "metadata": {},
   "outputs": [],
   "source": [
    "# Defining X and y\n",
    "\n",
    "X_xrp = np.array(df_xrp1[['Close']])\n",
    "X_xrp = X_xrp[:-projection_xrp]\n",
    "\n",
    "y_xrp = df_xrp1['Prediction'].values\n",
    "y_xrp = y_xrp[:-projection_xrp]"
   ]
  },
  {
   "cell_type": "code",
   "execution_count": null,
   "id": "3657eb53",
   "metadata": {},
   "outputs": [],
   "source": [
    "#Spliting into train and test set\n",
    "\n",
    "x_train_xrp, x_test_xrp, y_train_xrp, y_test_xrp = train_test_split(X_xrp,y_xrp,test_size=0.15)"
   ]
  },
  {
   "cell_type": "code",
   "execution_count": null,
   "id": "c183a0a1",
   "metadata": {},
   "outputs": [],
   "source": [
    "data = df_xrp['Close']\n",
    "Date1 = df_xrp['Date']\n",
    "xrp_train1 = df_xrp[['Date','Close']]\n",
    "# Setting the Date as Index\n",
    "xrp_train2 = xrp_train1.set_index('Date')\n",
    "xrp_train2.sort_index(inplace=True)\n",
    "print (type(xrp_train2))\n",
    "print (xrp_train2.head())\n",
    "plt.plot(xrp_train2)\n",
    "plt.xlabel('Date', fontsize=12)\n",
    "plt.ylabel('Price in USD', fontsize=12)\n",
    "plt.title(\"Closing price distribution of XRP\", fontsize=15)\n",
    "plt.show()"
   ]
  },
  {
   "cell_type": "code",
   "execution_count": null,
   "id": "22ca3d66",
   "metadata": {},
   "outputs": [],
   "source": [
    "#Checking if the data is stationary:\n",
    "\n",
    "#XRP:\n",
    "\n",
    "from statsmodels.tsa.stattools import adfuller\n",
    "\n",
    "def test_stationarity(x):\n",
    "\n",
    "\n",
    "    #Determing rolling statistics\n",
    "    rolmean = x.rolling(window=22,center=False).mean()\n",
    "\n",
    "    rolstd = x.rolling(window=12,center=False).std()\n",
    "    \n",
    "    #Plot rolling statistics:\n",
    "    orig = plt.plot(x, color='blue',label='Original')\n",
    "    mean = plt.plot(rolmean, color='red', label='Rolling Mean')\n",
    "    std = plt.plot(rolstd, color='black', label = 'Rolling Std')\n",
    "    plt.legend(loc='best')\n",
    "    plt.title('Rolling Mean & Standard Deviation')\n",
    "    plt.show(block=False)\n",
    "    \n",
    "    #Perform Dickey Fuller test    \n",
    "    result=adfuller(x)\n",
    "    print('ADF Stastistic: %f'%result[0])\n",
    "    print('p-value: %f'%result[1])\n",
    "    pvalue=result[1]\n",
    "    for key,value in result[4].items():\n",
    "        if result[0]>value:\n",
    "            print(\"The graph is non stationery\")\n",
    "            break\n",
    "        else:\n",
    "            print(\"The graph is stationery\")\n",
    "            break;\n",
    "    print('Critical values:')\n",
    "    for key,value in result[4].items():\n",
    "        print('\\t%s: %.3f ' % (key, value))\n",
    "        \n",
    "ts = xrp_train2['Close']      \n",
    "test_stationarity(ts)"
   ]
  },
  {
   "cell_type": "code",
   "execution_count": null,
   "id": "c530c017",
   "metadata": {},
   "outputs": [],
   "source": [
    "temp_Y = df_xrp['Close']\n",
    "res = sm.tsa.seasonal_decompose(temp_Y,period=52)\n",
    "fig = res.plot()\n",
    "fig.set_figheight(8)\n",
    "fig.set_figwidth(15)\n",
    "plt.show()"
   ]
  },
  {
   "cell_type": "markdown",
   "id": "23d92583",
   "metadata": {},
   "source": [
    "## XRP RF Algorithm"
   ]
  },
  {
   "cell_type": "code",
   "execution_count": null,
   "id": "638a2310",
   "metadata": {},
   "outputs": [],
   "source": [
    "df_xrp1.index.name = 'Date'\n",
    "df_xrp1.index = pd.to_datetime(df_xrp1.index)\n",
    "#df_btc = df_btc[:-1].astype(float) # drop last row (missing closing prices)"
   ]
  },
  {
   "cell_type": "code",
   "execution_count": null,
   "id": "01e577df",
   "metadata": {},
   "outputs": [],
   "source": [
    "#df_xrp1 = df_xrp1.drop(['SNo','Date','Prediction'], axis=1)\n",
    "df_xrp1"
   ]
  },
  {
   "cell_type": "code",
   "execution_count": null,
   "id": "60fb6c51",
   "metadata": {},
   "outputs": [],
   "source": [
    "# Prepare training/test DataFrames. \n",
    "#train_end = pd.to_datetime(datetime(2021, 7, 2))\n",
    "#test_start = pd.to_datetime(datetime(2021, 6, 5))\n",
    "target = 'Close'\n",
    "\n",
    "train_df = df_xrp1.loc[:train_end]\n",
    "#test_df = df_btc1.loc[train_end:] \n",
    "\n",
    "features_xrp = df_xrp1.drop(target, axis=1).values\n",
    "#X_test = df_btc1.copy().drop(target, axis=1).values\n",
    "class_target_xrp = df_xrp1[target].values\n",
    "#y_test = df_btc1[target].values"
   ]
  },
  {
   "cell_type": "code",
   "execution_count": null,
   "id": "27237f37",
   "metadata": {},
   "outputs": [],
   "source": [
    "x_train_xrp, x_test_xrp, y_train_xrp, y_test_xrp = train_test_split(features_xrp,class_target_xrp,test_size=0.15)"
   ]
  },
  {
   "cell_type": "code",
   "execution_count": null,
   "id": "7d4409ff",
   "metadata": {},
   "outputs": [],
   "source": [
    "# Perform grid search for hyperparameters. \n",
    "def Grid_Search_CV_RFR(X_train, y_train):\n",
    "    reg = RandomForestRegressor()\n",
    "    param_grid = { \n",
    "            \"n_estimators\"      : [5,10,50],\n",
    "            \"max_features\"      : [\"auto\", \"sqrt\", \"log2\"],\n",
    "            \"min_samples_leaf\" : [1,3,5]\n",
    "            }\n",
    "\n",
    "    tss_splits = TimeSeriesSplit(n_splits=10).split(X_train)\n",
    "    grid = GridSearchCV(reg, param_grid, cv=tss_splits, verbose=0)\n",
    "    #grid = GridSearchCV(reg, param_grid, cv=3, verbose=0)\n",
    "\n",
    "    grid.fit(X_train, y_train)\n",
    "\n",
    "    return grid.best_score_ , grid.best_params_\n",
    "\n",
    "best_score, best_params = Grid_Search_CV_RFR(x_train_xrp, y_train_xrp)"
   ]
  },
  {
   "cell_type": "code",
   "execution_count": null,
   "id": "6c9b4676",
   "metadata": {},
   "outputs": [],
   "source": [
    "mf = best_params['max_features']\n",
    "msl = best_params['min_samples_leaf']\n",
    "ne = best_params['n_estimators']"
   ]
  },
  {
   "cell_type": "code",
   "execution_count": null,
   "id": "23c084ea",
   "metadata": {},
   "outputs": [],
   "source": [
    "mf"
   ]
  },
  {
   "cell_type": "code",
   "execution_count": null,
   "id": "51308d71",
   "metadata": {},
   "outputs": [],
   "source": [
    "msl"
   ]
  },
  {
   "cell_type": "code",
   "execution_count": null,
   "id": "dd3880a8",
   "metadata": {},
   "outputs": [],
   "source": [
    "ne"
   ]
  },
  {
   "cell_type": "code",
   "execution_count": null,
   "id": "16629f14",
   "metadata": {},
   "outputs": [],
   "source": [
    "# Fit RFR with best parameters from grid search.\n",
    "rfr = RandomForestRegressor(n_estimators=ne, max_features=mf, min_samples_leaf=msl, random_state=42)\n",
    "rfr.fit(x_train_xrp, y_train_xrp)"
   ]
  },
  {
   "cell_type": "code",
   "execution_count": null,
   "id": "ff6e9bfd",
   "metadata": {},
   "outputs": [],
   "source": [
    "# Examine feature importances.\n",
    "#features = train_df.copy().drop(target, axis=1).columns\n",
    "features_xrp = df_xrp1.drop(target, axis=1).columns\n",
    "importances = rfr.feature_importances_\n",
    "indices = np.argsort(importances)\n",
    "\n",
    "trace = go.Bar(\n",
    "    x=features_xrp[indices],\n",
    "    y=importances[indices],\n",
    "    marker = dict(color='green')\n",
    ")\n",
    "\n",
    "data=[trace]\n",
    "\n",
    "# Edit the layout, then plot!\n",
    "layout = dict(title = 'Feature Importance (Random Forest)',\n",
    "              yaxis = dict(title = 'Relative Importance'),\n",
    "              xaxis = dict(autorange='reversed',\n",
    "                           tickfont=dict(size=10))\n",
    "              )\n",
    "\n",
    "fig = dict(data=data, layout=layout)\n",
    "iplot(fig, filename='importance')"
   ]
  },
  {
   "cell_type": "code",
   "execution_count": null,
   "id": "ae68675e",
   "metadata": {},
   "outputs": [],
   "source": [
    "# Get predictions for train/test sets.\n",
    "train_pred1 = rfr.predict(x_train_xrp)\n",
    "test_pred1 = rfr.predict(x_test_xrp)"
   ]
  },
  {
   "cell_type": "code",
   "execution_count": null,
   "id": "dc535cdd",
   "metadata": {},
   "outputs": [],
   "source": [
    "mse = mean_squared_error(y_test_xrp, test_pred1)\n",
    "rmse = mse**.5\n",
    "print(\"Square root error: mse = %f\" % mse)\n",
    "print(\"root mean squared error: rmse = %f\" % rmse)"
   ]
  },
  {
   "cell_type": "code",
   "execution_count": null,
   "id": "9995ede1",
   "metadata": {},
   "outputs": [],
   "source": [
    "# Calculate the absolute errors\n",
    "errors = abs(test_pred1 - y_test_xrp)"
   ]
  },
  {
   "cell_type": "code",
   "execution_count": null,
   "id": "c63a2541",
   "metadata": {},
   "outputs": [],
   "source": [
    "# Calculate mean absolute percentage error (MAPE)\n",
    "mape = 100 * (errors / y_test_xrp)\n",
    "# Calculate and display accuracy\n",
    "accuracy = 100 - np.mean(mape)\n",
    "print('RF EXP Model Accuracy:', round(accuracy, 2), '%.')"
   ]
  },
  {
   "cell_type": "code",
   "execution_count": null,
   "id": "fbc4405f",
   "metadata": {},
   "outputs": [],
   "source": [
    "# Create traces.\n",
    "def create_trace(df, color, label):\n",
    "    dates = df.index \n",
    "    prices = df[df.columns[0]].values\n",
    "\n",
    "    trace = go.Scatter(\n",
    "        x = dates,\n",
    "        y = prices,\n",
    "        name = label,\n",
    "        line = dict(color=color)\n",
    "    )\n",
    "    return trace\n",
    "\n",
    "train_act_df = pd.DataFrame(y_train_xrp)\n",
    "train_act_df.columns = ['act_close']\n",
    "train_pred_df = pd.DataFrame(train_pred1)\n",
    "train_pred_df.columns = ['pred_close']\n",
    "\n",
    "pred_trace = create_trace(train_pred_df, 'red', 'Predicted')\n",
    "act_trace = create_trace(train_act_df, 'blue', 'Actual')\n",
    "data = [pred_trace, act_trace]"
   ]
  },
  {
   "cell_type": "code",
   "execution_count": null,
   "id": "d685cd3e",
   "metadata": {},
   "outputs": [],
   "source": [
    "# Edit the layout, then plot!\n",
    "layout = dict(title = 'XRP Closing Price (Training)',\n",
    "              xaxis = dict(title = 'Date'),\n",
    "              yaxis = dict(title = 'Closing Price'),\n",
    "              )\n",
    "\n",
    "fig = dict(data=data, layout=layout)\n",
    "iplot(fig, filename='training-prices')"
   ]
  },
  {
   "cell_type": "code",
   "execution_count": null,
   "id": "50382126",
   "metadata": {},
   "outputs": [],
   "source": [
    "test_act_df = pd.DataFrame(y_test_xrp)\n",
    "test_act_df.columns = ['act_close']\n",
    "test_pred_df = pd.DataFrame(test_pred1)\n",
    "test_pred_df.columns = ['pred_close']\n",
    "\n",
    "pred_trace = create_trace(test_pred_df, 'red', 'Predicted')\n",
    "act_trace = create_trace(test_act_df, 'blue', 'Actual')\n",
    "data = [pred_trace, act_trace]"
   ]
  },
  {
   "cell_type": "code",
   "execution_count": null,
   "id": "3a580412",
   "metadata": {},
   "outputs": [],
   "source": [
    "# Edit the layout, then plot!\n",
    "layout = dict(title = 'Bitcoin Closing Price (Test)',\n",
    "              xaxis = dict(title = 'Date'),\n",
    "              yaxis = dict(title = 'Closing Price'),\n",
    "              )\n",
    "\n",
    "fig = dict(data=data, layout=layout)\n",
    "iplot(fig, filename='test-prices')"
   ]
  },
  {
   "cell_type": "code",
   "execution_count": null,
   "id": "ca763afa",
   "metadata": {},
   "outputs": [],
   "source": []
  },
  {
   "cell_type": "code",
   "execution_count": null,
   "id": "c171e046",
   "metadata": {},
   "outputs": [],
   "source": []
  }
 ],
 "metadata": {
  "kernelspec": {
   "display_name": "Python 3 (ipykernel)",
   "language": "python",
   "name": "python3"
  },
  "language_info": {
   "codemirror_mode": {
    "name": "ipython",
    "version": 3
   },
   "file_extension": ".py",
   "mimetype": "text/x-python",
   "name": "python",
   "nbconvert_exporter": "python",
   "pygments_lexer": "ipython3",
   "version": "3.9.13"
  },
  "toc": {
   "base_numbering": 1,
   "nav_menu": {},
   "number_sections": false,
   "sideBar": true,
   "skip_h1_title": false,
   "title_cell": "Table of Contents",
   "title_sidebar": "Contents",
   "toc_cell": false,
   "toc_position": {
    "height": "calc(100% - 180px)",
    "left": "10px",
    "top": "150px",
    "width": "165px"
   },
   "toc_section_display": true,
   "toc_window_display": true
  }
 },
 "nbformat": 4,
 "nbformat_minor": 5
}
